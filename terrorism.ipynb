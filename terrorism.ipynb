{
 "cells": [
  {
   "cell_type": "code",
   "execution_count": 1,
   "id": "8f53ccd4",
   "metadata": {},
   "outputs": [],
   "source": [
    "#importing Libraries\n",
    "import pandas as pd \n",
    "import numpy as np"
   ]
  },
  {
   "cell_type": "code",
   "execution_count": 2,
   "id": "c4ccc65f",
   "metadata": {},
   "outputs": [
    {
     "name": "stderr",
     "output_type": "stream",
     "text": [
      "C:\\Users\\Abd AL-Rahman\\AppData\\Local\\Temp\\ipykernel_15656\\3185920444.py:2: DtypeWarning: Columns (4,6,31,33,61,62,63,76,79,90,92,94,96,114,115,121) have mixed types. Specify dtype option on import or set low_memory=False.\n",
      "  df=pd.read_csv(r'C:\\Users\\Abd AL-Rahman\\Desktop\\sparks foundation Tasks\\globalterrorismdb_0718dist.csv',encoding='latin-1')\n"
     ]
    }
   ],
   "source": [
    "#Reading data\n",
    "df=pd.read_csv(r'C:\\Users\\Abd AL-Rahman\\Desktop\\sparks foundation Tasks\\globalterrorismdb_0718dist.csv',encoding='latin-1')"
   ]
  },
  {
   "cell_type": "code",
   "execution_count": 3,
   "id": "8d33c465",
   "metadata": {},
   "outputs": [
    {
     "data": {
      "text/html": [
       "<div>\n",
       "<style scoped>\n",
       "    .dataframe tbody tr th:only-of-type {\n",
       "        vertical-align: middle;\n",
       "    }\n",
       "\n",
       "    .dataframe tbody tr th {\n",
       "        vertical-align: top;\n",
       "    }\n",
       "\n",
       "    .dataframe thead th {\n",
       "        text-align: right;\n",
       "    }\n",
       "</style>\n",
       "<table border=\"1\" class=\"dataframe\">\n",
       "  <thead>\n",
       "    <tr style=\"text-align: right;\">\n",
       "      <th></th>\n",
       "      <th>eventid</th>\n",
       "      <th>iyear</th>\n",
       "      <th>imonth</th>\n",
       "      <th>iday</th>\n",
       "      <th>approxdate</th>\n",
       "      <th>extended</th>\n",
       "      <th>resolution</th>\n",
       "      <th>country</th>\n",
       "      <th>country_txt</th>\n",
       "      <th>region</th>\n",
       "      <th>...</th>\n",
       "      <th>addnotes</th>\n",
       "      <th>scite1</th>\n",
       "      <th>scite2</th>\n",
       "      <th>scite3</th>\n",
       "      <th>dbsource</th>\n",
       "      <th>INT_LOG</th>\n",
       "      <th>INT_IDEO</th>\n",
       "      <th>INT_MISC</th>\n",
       "      <th>INT_ANY</th>\n",
       "      <th>related</th>\n",
       "    </tr>\n",
       "  </thead>\n",
       "  <tbody>\n",
       "    <tr>\n",
       "      <th>0</th>\n",
       "      <td>197000000001</td>\n",
       "      <td>1970</td>\n",
       "      <td>7</td>\n",
       "      <td>2</td>\n",
       "      <td>NaN</td>\n",
       "      <td>0</td>\n",
       "      <td>NaN</td>\n",
       "      <td>58</td>\n",
       "      <td>Dominican Republic</td>\n",
       "      <td>2</td>\n",
       "      <td>...</td>\n",
       "      <td>NaN</td>\n",
       "      <td>NaN</td>\n",
       "      <td>NaN</td>\n",
       "      <td>NaN</td>\n",
       "      <td>PGIS</td>\n",
       "      <td>0</td>\n",
       "      <td>0</td>\n",
       "      <td>0</td>\n",
       "      <td>0</td>\n",
       "      <td>NaN</td>\n",
       "    </tr>\n",
       "    <tr>\n",
       "      <th>1</th>\n",
       "      <td>197000000002</td>\n",
       "      <td>1970</td>\n",
       "      <td>0</td>\n",
       "      <td>0</td>\n",
       "      <td>NaN</td>\n",
       "      <td>0</td>\n",
       "      <td>NaN</td>\n",
       "      <td>130</td>\n",
       "      <td>Mexico</td>\n",
       "      <td>1</td>\n",
       "      <td>...</td>\n",
       "      <td>NaN</td>\n",
       "      <td>NaN</td>\n",
       "      <td>NaN</td>\n",
       "      <td>NaN</td>\n",
       "      <td>PGIS</td>\n",
       "      <td>0</td>\n",
       "      <td>1</td>\n",
       "      <td>1</td>\n",
       "      <td>1</td>\n",
       "      <td>NaN</td>\n",
       "    </tr>\n",
       "    <tr>\n",
       "      <th>2</th>\n",
       "      <td>197001000001</td>\n",
       "      <td>1970</td>\n",
       "      <td>1</td>\n",
       "      <td>0</td>\n",
       "      <td>NaN</td>\n",
       "      <td>0</td>\n",
       "      <td>NaN</td>\n",
       "      <td>160</td>\n",
       "      <td>Philippines</td>\n",
       "      <td>5</td>\n",
       "      <td>...</td>\n",
       "      <td>NaN</td>\n",
       "      <td>NaN</td>\n",
       "      <td>NaN</td>\n",
       "      <td>NaN</td>\n",
       "      <td>PGIS</td>\n",
       "      <td>-9</td>\n",
       "      <td>-9</td>\n",
       "      <td>1</td>\n",
       "      <td>1</td>\n",
       "      <td>NaN</td>\n",
       "    </tr>\n",
       "    <tr>\n",
       "      <th>3</th>\n",
       "      <td>197001000002</td>\n",
       "      <td>1970</td>\n",
       "      <td>1</td>\n",
       "      <td>0</td>\n",
       "      <td>NaN</td>\n",
       "      <td>0</td>\n",
       "      <td>NaN</td>\n",
       "      <td>78</td>\n",
       "      <td>Greece</td>\n",
       "      <td>8</td>\n",
       "      <td>...</td>\n",
       "      <td>NaN</td>\n",
       "      <td>NaN</td>\n",
       "      <td>NaN</td>\n",
       "      <td>NaN</td>\n",
       "      <td>PGIS</td>\n",
       "      <td>-9</td>\n",
       "      <td>-9</td>\n",
       "      <td>1</td>\n",
       "      <td>1</td>\n",
       "      <td>NaN</td>\n",
       "    </tr>\n",
       "    <tr>\n",
       "      <th>4</th>\n",
       "      <td>197001000003</td>\n",
       "      <td>1970</td>\n",
       "      <td>1</td>\n",
       "      <td>0</td>\n",
       "      <td>NaN</td>\n",
       "      <td>0</td>\n",
       "      <td>NaN</td>\n",
       "      <td>101</td>\n",
       "      <td>Japan</td>\n",
       "      <td>4</td>\n",
       "      <td>...</td>\n",
       "      <td>NaN</td>\n",
       "      <td>NaN</td>\n",
       "      <td>NaN</td>\n",
       "      <td>NaN</td>\n",
       "      <td>PGIS</td>\n",
       "      <td>-9</td>\n",
       "      <td>-9</td>\n",
       "      <td>1</td>\n",
       "      <td>1</td>\n",
       "      <td>NaN</td>\n",
       "    </tr>\n",
       "  </tbody>\n",
       "</table>\n",
       "<p>5 rows × 135 columns</p>\n",
       "</div>"
      ],
      "text/plain": [
       "        eventid  iyear  imonth  iday approxdate  extended resolution  country  \\\n",
       "0  197000000001   1970       7     2        NaN         0        NaN       58   \n",
       "1  197000000002   1970       0     0        NaN         0        NaN      130   \n",
       "2  197001000001   1970       1     0        NaN         0        NaN      160   \n",
       "3  197001000002   1970       1     0        NaN         0        NaN       78   \n",
       "4  197001000003   1970       1     0        NaN         0        NaN      101   \n",
       "\n",
       "          country_txt  region  ... addnotes scite1 scite2  scite3  dbsource  \\\n",
       "0  Dominican Republic       2  ...      NaN    NaN    NaN     NaN      PGIS   \n",
       "1              Mexico       1  ...      NaN    NaN    NaN     NaN      PGIS   \n",
       "2         Philippines       5  ...      NaN    NaN    NaN     NaN      PGIS   \n",
       "3              Greece       8  ...      NaN    NaN    NaN     NaN      PGIS   \n",
       "4               Japan       4  ...      NaN    NaN    NaN     NaN      PGIS   \n",
       "\n",
       "   INT_LOG  INT_IDEO INT_MISC INT_ANY  related  \n",
       "0        0         0        0       0      NaN  \n",
       "1        0         1        1       1      NaN  \n",
       "2       -9        -9        1       1      NaN  \n",
       "3       -9        -9        1       1      NaN  \n",
       "4       -9        -9        1       1      NaN  \n",
       "\n",
       "[5 rows x 135 columns]"
      ]
     },
     "execution_count": 3,
     "metadata": {},
     "output_type": "execute_result"
    }
   ],
   "source": [
    "df.head()"
   ]
  },
  {
   "cell_type": "code",
   "execution_count": 4,
   "id": "fc3171d3",
   "metadata": {},
   "outputs": [
    {
     "data": {
      "text/plain": [
       "(181691, 135)"
      ]
     },
     "execution_count": 4,
     "metadata": {},
     "output_type": "execute_result"
    }
   ],
   "source": [
    "df.shape"
   ]
  },
  {
   "cell_type": "code",
   "execution_count": 5,
   "id": "b691ca5f",
   "metadata": {},
   "outputs": [],
   "source": [
    "#checking nulls\n",
    "nullvalues=df.isnull().sum().values"
   ]
  },
  {
   "cell_type": "code",
   "execution_count": 6,
   "id": "fee71be6",
   "metadata": {},
   "outputs": [
    {
     "data": {
      "text/plain": [
       "94"
      ]
     },
     "execution_count": 6,
     "metadata": {},
     "output_type": "execute_result"
    }
   ],
   "source": [
    "#finding columns that have more than 5000 nulls\n",
    "len(nullvalues[nullvalues>5000])"
   ]
  },
  {
   "cell_type": "code",
   "execution_count": 7,
   "id": "07986cc6",
   "metadata": {},
   "outputs": [],
   "source": [
    "#creating list of columns that have more than 5000 null values to drop \n",
    "columnstodrop=df.isnull().sum().sort_values(ascending=False)[:94].index.tolist()"
   ]
  },
  {
   "cell_type": "code",
   "execution_count": 8,
   "id": "21084c3a",
   "metadata": {},
   "outputs": [],
   "source": [
    "#droping columns \n",
    "df.drop(columnstodrop,axis=1,inplace=True)"
   ]
  },
  {
   "cell_type": "code",
   "execution_count": 9,
   "id": "0e965fb4",
   "metadata": {},
   "outputs": [
    {
     "data": {
      "text/plain": [
       "(181691, 41)"
      ]
     },
     "execution_count": 9,
     "metadata": {},
     "output_type": "execute_result"
    }
   ],
   "source": [
    "df.shape"
   ]
  },
  {
   "cell_type": "code",
   "execution_count": 10,
   "id": "a110974a",
   "metadata": {},
   "outputs": [
    {
     "data": {
      "text/plain": [
       "Iraq                              24113\n",
       "Pakistan                          13900\n",
       "India                             12098\n",
       "Afghanistan                       10931\n",
       "Colombia                           7922\n",
       "                                  ...  \n",
       "People's Republic of the Congo        1\n",
       "Saba (Netherlands Antilles)           1\n",
       "Tuvalu                                1\n",
       "Western Sahara                        1\n",
       "Marshall Islands                      1\n",
       "Name: natlty1_txt, Length: 215, dtype: int64"
      ]
     },
     "execution_count": 10,
     "metadata": {},
     "output_type": "execute_result"
    }
   ],
   "source": [
    "df['natlty1_txt'].value_counts()"
   ]
  },
  {
   "cell_type": "code",
   "execution_count": 11,
   "id": "78c35e8d",
   "metadata": {},
   "outputs": [],
   "source": [
    "df.drop(['ishostkid'],axis=1,inplace=True)"
   ]
  },
  {
   "cell_type": "code",
   "execution_count": 12,
   "id": "f70c12b6",
   "metadata": {},
   "outputs": [],
   "source": [
    "df.drop(['guncertain1'],axis=1,inplace=True)"
   ]
  },
  {
   "cell_type": "code",
   "execution_count": 13,
   "id": "703524bf",
   "metadata": {},
   "outputs": [
    {
     "data": {
      "text/plain": [
       "eventid               0\n",
       "iyear                 0\n",
       "imonth                0\n",
       "iday                  0\n",
       "extended              0\n",
       "country               0\n",
       "country_txt           0\n",
       "region                0\n",
       "region_txt            0\n",
       "provstate           421\n",
       "city                434\n",
       "latitude           4556\n",
       "longitude          4557\n",
       "specificity           6\n",
       "vicinity              0\n",
       "crit1                 0\n",
       "crit2                 0\n",
       "crit3                 0\n",
       "doubtterr             1\n",
       "multiple              1\n",
       "success               0\n",
       "suicide               0\n",
       "attacktype1           0\n",
       "attacktype1_txt       0\n",
       "targtype1             0\n",
       "targtype1_txt         0\n",
       "target1             636\n",
       "natlty1            1559\n",
       "natlty1_txt        1559\n",
       "gname                 0\n",
       "individual            0\n",
       "weaptype1             0\n",
       "weaptype1_txt         0\n",
       "property              0\n",
       "dbsource              0\n",
       "INT_LOG               0\n",
       "INT_IDEO              0\n",
       "INT_MISC              0\n",
       "INT_ANY               0\n",
       "dtype: int64"
      ]
     },
     "execution_count": 13,
     "metadata": {},
     "output_type": "execute_result"
    }
   ],
   "source": [
    "df.isna().sum()"
   ]
  },
  {
   "cell_type": "code",
   "execution_count": 14,
   "id": "72c90e80",
   "metadata": {},
   "outputs": [],
   "source": [
    "CountriesList=df['country_txt'].unique().tolist()"
   ]
  },
  {
   "cell_type": "code",
   "execution_count": 15,
   "id": "f3e0b19f",
   "metadata": {},
   "outputs": [
    {
     "data": {
      "text/plain": [
       "['Dominican Republic',\n",
       " 'Mexico',\n",
       " 'Philippines',\n",
       " 'Greece',\n",
       " 'Japan',\n",
       " 'United States',\n",
       " 'Uruguay',\n",
       " 'Italy',\n",
       " 'East Germany (GDR)',\n",
       " 'Ethiopia',\n",
       " 'Guatemala',\n",
       " 'Venezuela',\n",
       " 'West Germany (FRG)',\n",
       " 'Switzerland',\n",
       " 'Jordan',\n",
       " 'Spain',\n",
       " 'Brazil',\n",
       " 'Egypt',\n",
       " 'Argentina',\n",
       " 'Lebanon',\n",
       " 'Ireland',\n",
       " 'Turkey',\n",
       " 'Paraguay',\n",
       " 'Iran',\n",
       " 'United Kingdom',\n",
       " 'Colombia',\n",
       " 'Bolivia',\n",
       " 'Nicaragua',\n",
       " 'Netherlands',\n",
       " 'Belgium',\n",
       " 'Canada',\n",
       " 'Australia',\n",
       " 'Pakistan',\n",
       " 'Zambia',\n",
       " 'Sweden',\n",
       " 'Costa Rica',\n",
       " 'South Yemen',\n",
       " 'Cambodia',\n",
       " 'Israel',\n",
       " 'Poland',\n",
       " 'Taiwan',\n",
       " 'Panama',\n",
       " 'Kuwait',\n",
       " 'West Bank and Gaza Strip',\n",
       " 'Austria',\n",
       " 'Czechoslovakia',\n",
       " 'India',\n",
       " 'France',\n",
       " 'South Vietnam',\n",
       " 'Brunei',\n",
       " 'Zaire',\n",
       " \"People's Republic of the Congo\",\n",
       " 'Portugal',\n",
       " 'Algeria',\n",
       " 'El Salvador',\n",
       " 'Thailand',\n",
       " 'Haiti',\n",
       " 'Sudan',\n",
       " 'Morocco',\n",
       " 'Cyprus',\n",
       " 'Myanmar',\n",
       " 'Afghanistan',\n",
       " 'Peru',\n",
       " 'Chile',\n",
       " 'Honduras',\n",
       " 'Yugoslavia',\n",
       " 'Ecuador',\n",
       " 'New Zealand',\n",
       " 'Malaysia',\n",
       " 'Singapore',\n",
       " 'Botswana',\n",
       " 'Jamaica',\n",
       " 'Chad',\n",
       " 'North Yemen',\n",
       " 'Andorra',\n",
       " 'Syria',\n",
       " 'South Korea',\n",
       " 'United Arab Emirates',\n",
       " 'South Africa',\n",
       " 'Kenya',\n",
       " 'Iraq',\n",
       " 'Somalia',\n",
       " 'Tanzania',\n",
       " 'Sri Lanka',\n",
       " 'Namibia',\n",
       " 'Bahamas',\n",
       " 'Nigeria',\n",
       " 'Barbados',\n",
       " 'Trinidad and Tobago',\n",
       " 'Bangladesh',\n",
       " 'Angola',\n",
       " 'Mauritania',\n",
       " 'Saudi Arabia',\n",
       " 'Djibouti',\n",
       " 'Indonesia',\n",
       " 'Malta',\n",
       " 'Rhodesia',\n",
       " 'Soviet Union',\n",
       " 'Denmark',\n",
       " 'Western Sahara',\n",
       " 'Guyana',\n",
       " 'Mozambique',\n",
       " 'Tunisia',\n",
       " 'Uganda',\n",
       " 'Norway',\n",
       " 'Lesotho',\n",
       " 'Gabon',\n",
       " 'Libya',\n",
       " 'Bahrain',\n",
       " 'Hong Kong',\n",
       " 'Senegal',\n",
       " 'Zimbabwe',\n",
       " 'Guinea',\n",
       " 'Grenada',\n",
       " 'New Hebrides',\n",
       " 'Belize',\n",
       " 'Guadeloupe',\n",
       " 'Martinique',\n",
       " 'Vatican City',\n",
       " 'Albania',\n",
       " 'Central African Republic',\n",
       " 'Seychelles',\n",
       " 'Dominica',\n",
       " 'Qatar',\n",
       " 'Bulgaria',\n",
       " 'Suriname',\n",
       " 'Swaziland',\n",
       " 'Luxembourg',\n",
       " 'Iceland',\n",
       " 'French Guiana',\n",
       " 'Falkland Islands',\n",
       " 'Burkina Faso',\n",
       " 'New Caledonia',\n",
       " 'Romania',\n",
       " 'Niger',\n",
       " 'Nepal',\n",
       " 'Togo',\n",
       " 'Finland',\n",
       " 'Fiji',\n",
       " 'Ghana',\n",
       " 'Maldives',\n",
       " 'Mauritius',\n",
       " 'Hungary',\n",
       " 'Laos',\n",
       " 'Papua New Guinea',\n",
       " 'China',\n",
       " 'Liberia',\n",
       " 'Republic of the Congo',\n",
       " 'Mali',\n",
       " 'Germany',\n",
       " 'Yemen',\n",
       " 'Rwanda',\n",
       " 'Sierra Leone',\n",
       " 'Cameroon',\n",
       " 'Cuba',\n",
       " 'Croatia',\n",
       " 'Georgia',\n",
       " 'Azerbaijan',\n",
       " 'Madagascar',\n",
       " 'Lithuania',\n",
       " 'Burundi',\n",
       " 'Ukraine',\n",
       " 'Moldova',\n",
       " 'Armenia',\n",
       " 'Russia',\n",
       " 'Ivory Coast',\n",
       " 'Kazakhstan',\n",
       " 'Antigua and Barbuda',\n",
       " 'Bosnia-Herzegovina',\n",
       " 'Equatorial Guinea',\n",
       " 'Tajikistan',\n",
       " 'Malawi',\n",
       " 'Uzbekistan',\n",
       " 'Latvia',\n",
       " 'Estonia',\n",
       " 'Vietnam',\n",
       " 'Comoros',\n",
       " 'Benin',\n",
       " 'Slovak Republic',\n",
       " 'Macedonia',\n",
       " 'Wallis and Futuna',\n",
       " 'Belarus',\n",
       " 'Czech Republic',\n",
       " 'Slovenia',\n",
       " 'Gambia',\n",
       " 'North Korea',\n",
       " 'Eritrea',\n",
       " 'St. Kitts and Nevis',\n",
       " 'French Polynesia',\n",
       " 'Macau',\n",
       " 'Kyrgyzstan',\n",
       " 'Vanuatu',\n",
       " 'Democratic Republic of the Congo',\n",
       " 'Kosovo',\n",
       " 'Solomon Islands',\n",
       " 'East Timor',\n",
       " 'St. Lucia',\n",
       " 'Guinea-Bissau',\n",
       " 'Montenegro',\n",
       " 'International',\n",
       " 'Turkmenistan',\n",
       " 'Serbia-Montenegro',\n",
       " 'Bhutan',\n",
       " 'Serbia',\n",
       " 'South Sudan']"
      ]
     },
     "execution_count": 15,
     "metadata": {},
     "output_type": "execute_result"
    }
   ],
   "source": [
    "CountriesList"
   ]
  },
  {
   "cell_type": "code",
   "execution_count": 23,
   "id": "95294172",
   "metadata": {},
   "outputs": [],
   "source": [
    "from geopy.geocoders import Nominatim\n",
    "geo=Nominatim(user_agent='Singularity')"
   ]
  },
  {
   "cell_type": "code",
   "execution_count": 24,
   "id": "95864dce",
   "metadata": {},
   "outputs": [],
   "source": [
    "CountryGeoFeatures=[]\n",
    "CountriesNulls=[]\n",
    "for c in CountriesList:\n",
    "    loc=geo.geocode(c)\n",
    "    if loc==None:\n",
    "        CountriesNulls.append(c)\n",
    "    else:\n",
    "        CountryGeoFeatures.append(tuple((c,loc.latitude,loc.longitude)))\n",
    "        "
   ]
  },
  {
   "cell_type": "code",
   "execution_count": 25,
   "id": "3df572dc",
   "metadata": {},
   "outputs": [
    {
     "data": {
      "text/plain": [
       "['East Germany (GDR)',\n",
       " 'West Bank and Gaza Strip',\n",
       " \"People's Republic of the Congo\"]"
      ]
     },
     "execution_count": 25,
     "metadata": {},
     "output_type": "execute_result"
    }
   ],
   "source": [
    "CountriesNulls"
   ]
  },
  {
   "cell_type": "code",
   "execution_count": 33,
   "id": "04f656d1",
   "metadata": {},
   "outputs": [],
   "source": [
    "CountriesNullsModifying=['East Germany','Gaza Strip','Republic of the Congo']\n",
    "for country in CountriesNullsModifying:\n",
    "    loc=geo.geocode(country)\n",
    "    CountryGeoFeatures.append(tuple((country,loc.latitude,loc.longitude))) "
   ]
  },
  {
   "cell_type": "code",
   "execution_count": 35,
   "id": "00ea692f",
   "metadata": {},
   "outputs": [
    {
     "data": {
      "text/plain": [
       "[('Dominican Republic', 19.0974031, -70.3028026),\n",
       " ('Mexico', 23.6585116, -102.0077097),\n",
       " ('Philippines', 12.7503486, 122.7312101),\n",
       " ('Greece', 38.9953683, 21.9877132)]"
      ]
     },
     "execution_count": 35,
     "metadata": {},
     "output_type": "execute_result"
    }
   ],
   "source": [
    "CountryGeoFeatures[:4]"
   ]
  },
  {
   "cell_type": "code",
   "execution_count": 36,
   "id": "0c759a0f",
   "metadata": {},
   "outputs": [],
   "source": [
    "df['country_txt'].replace('East Germany (GDR)','East Germany',inplace=True)\n",
    "df['country_txt'].replace('West Bank and Gaza Strip','Gaza Strip',inplace=True)\n",
    "df['country_txt'].replace(\"People's Republic of the Congo\",'Republic of the Congo',inplace=True)"
   ]
  },
  {
   "cell_type": "code",
   "execution_count": 66,
   "id": "8125c73a",
   "metadata": {},
   "outputs": [
    {
     "data": {
      "text/html": [
       "<div>\n",
       "<style scoped>\n",
       "    .dataframe tbody tr th:only-of-type {\n",
       "        vertical-align: middle;\n",
       "    }\n",
       "\n",
       "    .dataframe tbody tr th {\n",
       "        vertical-align: top;\n",
       "    }\n",
       "\n",
       "    .dataframe thead th {\n",
       "        text-align: right;\n",
       "    }\n",
       "</style>\n",
       "<table border=\"1\" class=\"dataframe\">\n",
       "  <thead>\n",
       "    <tr style=\"text-align: right;\">\n",
       "      <th></th>\n",
       "      <th>latitude</th>\n",
       "      <th>longitude</th>\n",
       "    </tr>\n",
       "  </thead>\n",
       "  <tbody>\n",
       "    <tr>\n",
       "      <th>16</th>\n",
       "      <td>NaN</td>\n",
       "      <td>NaN</td>\n",
       "    </tr>\n",
       "    <tr>\n",
       "      <th>103</th>\n",
       "      <td>NaN</td>\n",
       "      <td>NaN</td>\n",
       "    </tr>\n",
       "    <tr>\n",
       "      <th>132</th>\n",
       "      <td>NaN</td>\n",
       "      <td>NaN</td>\n",
       "    </tr>\n",
       "    <tr>\n",
       "      <th>165</th>\n",
       "      <td>NaN</td>\n",
       "      <td>NaN</td>\n",
       "    </tr>\n",
       "    <tr>\n",
       "      <th>210</th>\n",
       "      <td>NaN</td>\n",
       "      <td>NaN</td>\n",
       "    </tr>\n",
       "    <tr>\n",
       "      <th>...</th>\n",
       "      <td>...</td>\n",
       "      <td>...</td>\n",
       "    </tr>\n",
       "    <tr>\n",
       "      <th>180885</th>\n",
       "      <td>NaN</td>\n",
       "      <td>NaN</td>\n",
       "    </tr>\n",
       "    <tr>\n",
       "      <th>181112</th>\n",
       "      <td>NaN</td>\n",
       "      <td>NaN</td>\n",
       "    </tr>\n",
       "    <tr>\n",
       "      <th>181300</th>\n",
       "      <td>NaN</td>\n",
       "      <td>NaN</td>\n",
       "    </tr>\n",
       "    <tr>\n",
       "      <th>181351</th>\n",
       "      <td>NaN</td>\n",
       "      <td>NaN</td>\n",
       "    </tr>\n",
       "    <tr>\n",
       "      <th>181542</th>\n",
       "      <td>NaN</td>\n",
       "      <td>NaN</td>\n",
       "    </tr>\n",
       "  </tbody>\n",
       "</table>\n",
       "<p>4556 rows × 2 columns</p>\n",
       "</div>"
      ],
      "text/plain": [
       "        latitude  longitude\n",
       "16           NaN        NaN\n",
       "103          NaN        NaN\n",
       "132          NaN        NaN\n",
       "165          NaN        NaN\n",
       "210          NaN        NaN\n",
       "...          ...        ...\n",
       "180885       NaN        NaN\n",
       "181112       NaN        NaN\n",
       "181300       NaN        NaN\n",
       "181351       NaN        NaN\n",
       "181542       NaN        NaN\n",
       "\n",
       "[4556 rows x 2 columns]"
      ]
     },
     "execution_count": 66,
     "metadata": {},
     "output_type": "execute_result"
    }
   ],
   "source": [
    "df[(df['latitude'].isnull())&(df['longitude'].isnull())][['latitude','longitude']]"
   ]
  },
  {
   "cell_type": "code",
   "execution_count": 67,
   "id": "0bc191ab",
   "metadata": {},
   "outputs": [],
   "source": [
    "indicies=df[(df['latitude'].isnull())&(df['longitude'].isnull())][['latitude','longitude']].index.tolist()"
   ]
  },
  {
   "cell_type": "code",
   "execution_count": 68,
   "id": "f1c899be",
   "metadata": {},
   "outputs": [
    {
     "name": "stderr",
     "output_type": "stream",
     "text": [
      "C:\\Users\\Abd AL-Rahman\\AppData\\Local\\Temp\\ipykernel_15656\\1670511041.py:4: SettingWithCopyWarning: \n",
      "A value is trying to be set on a copy of a slice from a DataFrame\n",
      "\n",
      "See the caveats in the documentation: https://pandas.pydata.org/pandas-docs/stable/user_guide/indexing.html#returning-a-view-versus-a-copy\n",
      "  df['latitude'][i]=country[1]\n",
      "C:\\Users\\Abd AL-Rahman\\AppData\\Local\\Temp\\ipykernel_15656\\1670511041.py:5: SettingWithCopyWarning: \n",
      "A value is trying to be set on a copy of a slice from a DataFrame\n",
      "\n",
      "See the caveats in the documentation: https://pandas.pydata.org/pandas-docs/stable/user_guide/indexing.html#returning-a-view-versus-a-copy\n",
      "  df['longitude'][i]=country[2]\n"
     ]
    }
   ],
   "source": [
    "for i in indicies:\n",
    "    for country in CountryGeoFeatures:\n",
    "        if df['country_txt'][i]==country[0]:\n",
    "            df['latitude'][i]=country[1]\n",
    "            df['longitude'][i]=country[2]\n",
    "            "
   ]
  },
  {
   "cell_type": "code",
   "execution_count": 80,
   "id": "5ede5ad8",
   "metadata": {},
   "outputs": [
    {
     "data": {
      "text/plain": [
       "eventid               0\n",
       "iyear                 0\n",
       "imonth                0\n",
       "iday                  0\n",
       "extended              0\n",
       "country               0\n",
       "country_txt           0\n",
       "region                0\n",
       "region_txt            0\n",
       "provstate           421\n",
       "city                434\n",
       "latitude              0\n",
       "longitude             1\n",
       "specificity           6\n",
       "vicinity              0\n",
       "crit1                 0\n",
       "crit2                 0\n",
       "crit3                 0\n",
       "doubtterr             1\n",
       "multiple              1\n",
       "success               0\n",
       "suicide               0\n",
       "attacktype1           0\n",
       "attacktype1_txt       0\n",
       "targtype1             0\n",
       "targtype1_txt         0\n",
       "target1             636\n",
       "natlty1            1559\n",
       "natlty1_txt        1559\n",
       "gname                 0\n",
       "individual            0\n",
       "weaptype1             0\n",
       "weaptype1_txt         0\n",
       "property              0\n",
       "dbsource              0\n",
       "INT_LOG               0\n",
       "INT_IDEO              0\n",
       "INT_MISC              0\n",
       "INT_ANY               0\n",
       "dtype: int64"
      ]
     },
     "execution_count": 80,
     "metadata": {},
     "output_type": "execute_result"
    }
   ],
   "source": [
    "df.isnull().sum()"
   ]
  },
  {
   "cell_type": "code",
   "execution_count": 82,
   "id": "512c7a97",
   "metadata": {},
   "outputs": [
    {
     "data": {
      "text/plain": [
       "53821    Tema\n",
       "Name: city, dtype: object"
      ]
     },
     "execution_count": 82,
     "metadata": {},
     "output_type": "execute_result"
    }
   ],
   "source": [
    "df[df['longitude'].isnull()]['city']"
   ]
  },
  {
   "cell_type": "code",
   "execution_count": 89,
   "id": "95a4ce13",
   "metadata": {},
   "outputs": [
    {
     "name": "stderr",
     "output_type": "stream",
     "text": [
      "C:\\Users\\Abd AL-Rahman\\AppData\\Local\\Temp\\ipykernel_15656\\1287063113.py:1: SettingWithCopyWarning: \n",
      "A value is trying to be set on a copy of a slice from a DataFrame\n",
      "\n",
      "See the caveats in the documentation: https://pandas.pydata.org/pandas-docs/stable/user_guide/indexing.html#returning-a-view-versus-a-copy\n",
      "  df['longitude'][53821]=geo.geocode('Tema').longitude\n"
     ]
    }
   ],
   "source": [
    "df['longitude'][53821]=geo.geocode('Tema').longitude"
   ]
  },
  {
   "cell_type": "code",
   "execution_count": 90,
   "id": "1ff70a05",
   "metadata": {},
   "outputs": [
    {
     "data": {
      "text/plain": [
       "eventid               0\n",
       "iyear                 0\n",
       "imonth                0\n",
       "iday                  0\n",
       "extended              0\n",
       "country               0\n",
       "country_txt           0\n",
       "region                0\n",
       "region_txt            0\n",
       "provstate           421\n",
       "city                434\n",
       "latitude              0\n",
       "longitude             0\n",
       "specificity           6\n",
       "vicinity              0\n",
       "crit1                 0\n",
       "crit2                 0\n",
       "crit3                 0\n",
       "doubtterr             1\n",
       "multiple              1\n",
       "success               0\n",
       "suicide               0\n",
       "attacktype1           0\n",
       "attacktype1_txt       0\n",
       "targtype1             0\n",
       "targtype1_txt         0\n",
       "target1             636\n",
       "natlty1            1559\n",
       "natlty1_txt        1559\n",
       "gname                 0\n",
       "individual            0\n",
       "weaptype1             0\n",
       "weaptype1_txt         0\n",
       "property              0\n",
       "dbsource              0\n",
       "INT_LOG               0\n",
       "INT_IDEO              0\n",
       "INT_MISC              0\n",
       "INT_ANY               0\n",
       "dtype: int64"
      ]
     },
     "execution_count": 90,
     "metadata": {},
     "output_type": "execute_result"
    }
   ],
   "source": [
    "df.isnull().sum()"
   ]
  },
  {
   "cell_type": "code",
   "execution_count": 113,
   "id": "4ca6adae",
   "metadata": {},
   "outputs": [
    {
     "data": {
      "text/html": [
       "<div>\n",
       "<style scoped>\n",
       "    .dataframe tbody tr th:only-of-type {\n",
       "        vertical-align: middle;\n",
       "    }\n",
       "\n",
       "    .dataframe tbody tr th {\n",
       "        vertical-align: top;\n",
       "    }\n",
       "\n",
       "    .dataframe thead th {\n",
       "        text-align: right;\n",
       "    }\n",
       "</style>\n",
       "<table border=\"1\" class=\"dataframe\">\n",
       "  <thead>\n",
       "    <tr style=\"text-align: right;\">\n",
       "      <th></th>\n",
       "      <th>natlty1</th>\n",
       "      <th>natlty1_txt</th>\n",
       "    </tr>\n",
       "  </thead>\n",
       "  <tbody>\n",
       "    <tr>\n",
       "      <th>104</th>\n",
       "      <td>NaN</td>\n",
       "      <td>NaN</td>\n",
       "    </tr>\n",
       "    <tr>\n",
       "      <th>108</th>\n",
       "      <td>NaN</td>\n",
       "      <td>NaN</td>\n",
       "    </tr>\n",
       "    <tr>\n",
       "      <th>110</th>\n",
       "      <td>NaN</td>\n",
       "      <td>NaN</td>\n",
       "    </tr>\n",
       "    <tr>\n",
       "      <th>290</th>\n",
       "      <td>NaN</td>\n",
       "      <td>NaN</td>\n",
       "    </tr>\n",
       "    <tr>\n",
       "      <th>697</th>\n",
       "      <td>NaN</td>\n",
       "      <td>NaN</td>\n",
       "    </tr>\n",
       "    <tr>\n",
       "      <th>...</th>\n",
       "      <td>...</td>\n",
       "      <td>...</td>\n",
       "    </tr>\n",
       "    <tr>\n",
       "      <th>181500</th>\n",
       "      <td>NaN</td>\n",
       "      <td>NaN</td>\n",
       "    </tr>\n",
       "    <tr>\n",
       "      <th>181538</th>\n",
       "      <td>NaN</td>\n",
       "      <td>NaN</td>\n",
       "    </tr>\n",
       "    <tr>\n",
       "      <th>181580</th>\n",
       "      <td>NaN</td>\n",
       "      <td>NaN</td>\n",
       "    </tr>\n",
       "    <tr>\n",
       "      <th>181633</th>\n",
       "      <td>NaN</td>\n",
       "      <td>NaN</td>\n",
       "    </tr>\n",
       "    <tr>\n",
       "      <th>181634</th>\n",
       "      <td>NaN</td>\n",
       "      <td>NaN</td>\n",
       "    </tr>\n",
       "  </tbody>\n",
       "</table>\n",
       "<p>1559 rows × 2 columns</p>\n",
       "</div>"
      ],
      "text/plain": [
       "        natlty1 natlty1_txt\n",
       "104         NaN         NaN\n",
       "108         NaN         NaN\n",
       "110         NaN         NaN\n",
       "290         NaN         NaN\n",
       "697         NaN         NaN\n",
       "...         ...         ...\n",
       "181500      NaN         NaN\n",
       "181538      NaN         NaN\n",
       "181580      NaN         NaN\n",
       "181633      NaN         NaN\n",
       "181634      NaN         NaN\n",
       "\n",
       "[1559 rows x 2 columns]"
      ]
     },
     "execution_count": 113,
     "metadata": {},
     "output_type": "execute_result"
    }
   ],
   "source": [
    "df[(df['natlty1'].isnull())&(df['natlty1_txt'].isnull())][['natlty1','natlty1_txt']]"
   ]
  },
  {
   "cell_type": "code",
   "execution_count": 114,
   "id": "6970afe6",
   "metadata": {},
   "outputs": [
    {
     "data": {
      "text/plain": [
       "False"
      ]
     },
     "execution_count": 114,
     "metadata": {},
     "output_type": "execute_result"
    }
   ],
   "source": [
    "888.0 in df['natlty1'].unique()"
   ]
  },
  {
   "cell_type": "code",
   "execution_count": 115,
   "id": "dedd34a3",
   "metadata": {},
   "outputs": [],
   "source": [
    "df['natlty1'].fillna(888.0,inplace=True)"
   ]
  },
  {
   "cell_type": "code",
   "execution_count": 116,
   "id": "d6df6f01",
   "metadata": {},
   "outputs": [],
   "source": [
    "df['natlty1_txt'].fillna('Unknown',inplace=True)"
   ]
  },
  {
   "cell_type": "code",
   "execution_count": 117,
   "id": "3b04a2eb",
   "metadata": {},
   "outputs": [],
   "source": [
    "df['target1'].fillna('Unknown',inplace=True)"
   ]
  },
  {
   "cell_type": "code",
   "execution_count": 118,
   "id": "7ed77afd",
   "metadata": {},
   "outputs": [
    {
     "name": "stdout",
     "output_type": "stream",
     "text": [
      "<class 'pandas.core.frame.DataFrame'>\n",
      "RangeIndex: 181691 entries, 0 to 181690\n",
      "Data columns (total 39 columns):\n",
      " #   Column           Non-Null Count   Dtype  \n",
      "---  ------           --------------   -----  \n",
      " 0   eventid          181691 non-null  int64  \n",
      " 1   iyear            181691 non-null  int64  \n",
      " 2   imonth           181691 non-null  int64  \n",
      " 3   iday             181691 non-null  int64  \n",
      " 4   extended         181691 non-null  int64  \n",
      " 5   country          181691 non-null  int64  \n",
      " 6   country_txt      181691 non-null  object \n",
      " 7   region           181691 non-null  int64  \n",
      " 8   region_txt       181691 non-null  object \n",
      " 9   provstate        181270 non-null  object \n",
      " 10  city             181257 non-null  object \n",
      " 11  latitude         181691 non-null  float64\n",
      " 12  longitude        181691 non-null  float64\n",
      " 13  specificity      181685 non-null  float64\n",
      " 14  vicinity         181691 non-null  int64  \n",
      " 15  crit1            181691 non-null  int64  \n",
      " 16  crit2            181691 non-null  int64  \n",
      " 17  crit3            181691 non-null  int64  \n",
      " 18  doubtterr        181690 non-null  float64\n",
      " 19  multiple         181690 non-null  float64\n",
      " 20  success          181691 non-null  int64  \n",
      " 21  suicide          181691 non-null  int64  \n",
      " 22  attacktype1      181691 non-null  int64  \n",
      " 23  attacktype1_txt  181691 non-null  object \n",
      " 24  targtype1        181691 non-null  int64  \n",
      " 25  targtype1_txt    181691 non-null  object \n",
      " 26  target1          181691 non-null  object \n",
      " 27  natlty1          181691 non-null  float64\n",
      " 28  natlty1_txt      181691 non-null  object \n",
      " 29  gname            181691 non-null  object \n",
      " 30  individual       181691 non-null  int64  \n",
      " 31  weaptype1        181691 non-null  int64  \n",
      " 32  weaptype1_txt    181691 non-null  object \n",
      " 33  property         181691 non-null  int64  \n",
      " 34  dbsource         181691 non-null  object \n",
      " 35  INT_LOG          181691 non-null  int64  \n",
      " 36  INT_IDEO         181691 non-null  int64  \n",
      " 37  INT_MISC         181691 non-null  int64  \n",
      " 38  INT_ANY          181691 non-null  int64  \n",
      "dtypes: float64(6), int64(22), object(11)\n",
      "memory usage: 54.1+ MB\n"
     ]
    }
   ],
   "source": [
    "df.info()"
   ]
  },
  {
   "cell_type": "code",
   "execution_count": 119,
   "id": "58d6e42b",
   "metadata": {},
   "outputs": [
    {
     "data": {
      "text/plain": [
       "eventid              0\n",
       "iyear                0\n",
       "imonth               0\n",
       "iday                 0\n",
       "extended             0\n",
       "country              0\n",
       "country_txt          0\n",
       "region               0\n",
       "region_txt           0\n",
       "provstate          421\n",
       "city               434\n",
       "latitude             0\n",
       "longitude            0\n",
       "specificity          6\n",
       "vicinity             0\n",
       "crit1                0\n",
       "crit2                0\n",
       "crit3                0\n",
       "doubtterr            1\n",
       "multiple             1\n",
       "success              0\n",
       "suicide              0\n",
       "attacktype1          0\n",
       "attacktype1_txt      0\n",
       "targtype1            0\n",
       "targtype1_txt        0\n",
       "target1              0\n",
       "natlty1              0\n",
       "natlty1_txt          0\n",
       "gname                0\n",
       "individual           0\n",
       "weaptype1            0\n",
       "weaptype1_txt        0\n",
       "property             0\n",
       "dbsource             0\n",
       "INT_LOG              0\n",
       "INT_IDEO             0\n",
       "INT_MISC             0\n",
       "INT_ANY              0\n",
       "dtype: int64"
      ]
     },
     "execution_count": 119,
     "metadata": {},
     "output_type": "execute_result"
    }
   ],
   "source": [
    "df.isnull().sum()"
   ]
  },
  {
   "cell_type": "code",
   "execution_count": 120,
   "id": "6ffbe9e9",
   "metadata": {},
   "outputs": [
    {
     "data": {
      "text/html": [
       "<div>\n",
       "<style scoped>\n",
       "    .dataframe tbody tr th:only-of-type {\n",
       "        vertical-align: middle;\n",
       "    }\n",
       "\n",
       "    .dataframe tbody tr th {\n",
       "        vertical-align: top;\n",
       "    }\n",
       "\n",
       "    .dataframe thead th {\n",
       "        text-align: right;\n",
       "    }\n",
       "</style>\n",
       "<table border=\"1\" class=\"dataframe\">\n",
       "  <thead>\n",
       "    <tr style=\"text-align: right;\">\n",
       "      <th></th>\n",
       "      <th>latitude</th>\n",
       "      <th>longitude</th>\n",
       "    </tr>\n",
       "  </thead>\n",
       "  <tbody>\n",
       "    <tr>\n",
       "      <th>79458</th>\n",
       "      <td>6.190088</td>\n",
       "      <td>101.797961</td>\n",
       "    </tr>\n",
       "    <tr>\n",
       "      <th>79459</th>\n",
       "      <td>6.700696</td>\n",
       "      <td>101.433915</td>\n",
       "    </tr>\n",
       "    <tr>\n",
       "      <th>79550</th>\n",
       "      <td>6.700696</td>\n",
       "      <td>101.433915</td>\n",
       "    </tr>\n",
       "    <tr>\n",
       "      <th>79583</th>\n",
       "      <td>6.202025</td>\n",
       "      <td>101.252379</td>\n",
       "    </tr>\n",
       "    <tr>\n",
       "      <th>79952</th>\n",
       "      <td>6.202025</td>\n",
       "      <td>101.252379</td>\n",
       "    </tr>\n",
       "    <tr>\n",
       "      <th>...</th>\n",
       "      <td>...</td>\n",
       "      <td>...</td>\n",
       "    </tr>\n",
       "    <tr>\n",
       "      <th>103120</th>\n",
       "      <td>26.823447</td>\n",
       "      <td>18.123672</td>\n",
       "    </tr>\n",
       "    <tr>\n",
       "      <th>103403</th>\n",
       "      <td>30.293114</td>\n",
       "      <td>47.292389</td>\n",
       "    </tr>\n",
       "    <tr>\n",
       "      <th>103453</th>\n",
       "      <td>-2.534382</td>\n",
       "      <td>140.709304</td>\n",
       "    </tr>\n",
       "    <tr>\n",
       "      <th>103530</th>\n",
       "      <td>-2.534382</td>\n",
       "      <td>140.709304</td>\n",
       "    </tr>\n",
       "    <tr>\n",
       "      <th>103543</th>\n",
       "      <td>34.963098</td>\n",
       "      <td>68.810885</td>\n",
       "    </tr>\n",
       "  </tbody>\n",
       "</table>\n",
       "<p>434 rows × 2 columns</p>\n",
       "</div>"
      ],
      "text/plain": [
       "         latitude   longitude\n",
       "79458    6.190088  101.797961\n",
       "79459    6.700696  101.433915\n",
       "79550    6.700696  101.433915\n",
       "79583    6.202025  101.252379\n",
       "79952    6.202025  101.252379\n",
       "...           ...         ...\n",
       "103120  26.823447   18.123672\n",
       "103403  30.293114   47.292389\n",
       "103453  -2.534382  140.709304\n",
       "103530  -2.534382  140.709304\n",
       "103543  34.963098   68.810885\n",
       "\n",
       "[434 rows x 2 columns]"
      ]
     },
     "execution_count": 120,
     "metadata": {},
     "output_type": "execute_result"
    }
   ],
   "source": [
    "df[df['city'].isnull()][['latitude','longitude']]"
   ]
  },
  {
   "cell_type": "code",
   "execution_count": 121,
   "id": "5b9ac4d2",
   "metadata": {},
   "outputs": [],
   "source": [
    "IndicioesOfNullCities=df[df['city'].isnull()][['latitude','longitude']].index"
   ]
  },
  {
   "cell_type": "code",
   "execution_count": 122,
   "id": "8f137cc6",
   "metadata": {},
   "outputs": [
    {
     "name": "stderr",
     "output_type": "stream",
     "text": [
      "C:\\Users\\Abd AL-Rahman\\AppData\\Local\\Temp\\ipykernel_15656\\1686934733.py:6: SettingWithCopyWarning: \n",
      "A value is trying to be set on a copy of a slice from a DataFrame\n",
      "\n",
      "See the caveats in the documentation: https://pandas.pydata.org/pandas-docs/stable/user_guide/indexing.html#returning-a-view-versus-a-copy\n",
      "  df['city'][i]=dic['city']\n"
     ]
    }
   ],
   "source": [
    "RawsCantProvideCity=[]\n",
    "for i in IndicioesOfNullCities:\n",
    "    try:\n",
    "        loc=geo.reverse(str(df['latitude'][i])+','+str(df['longitude'][i]),language='en')\n",
    "        dic=loc.raw['address']\n",
    "        df['city'][i]=dic['city']\n",
    "    except:\n",
    "        RawsCantProvideCity.append(i)\n",
    "        \n",
    "        \n",
    "        \n",
    "        "
   ]
  },
  {
   "cell_type": "code",
   "execution_count": 123,
   "id": "372b860b",
   "metadata": {},
   "outputs": [
    {
     "data": {
      "text/plain": [
       "378"
      ]
     },
     "execution_count": 123,
     "metadata": {},
     "output_type": "execute_result"
    }
   ],
   "source": [
    "len(RawsCantProvideCity)"
   ]
  },
  {
   "cell_type": "code",
   "execution_count": 128,
   "id": "07f3c344",
   "metadata": {},
   "outputs": [],
   "source": [
    "Indicies_Of_Null_ProvState=df[df['provstate'].isnull()][['latitude','longitude']].index.tolist()"
   ]
  },
  {
   "cell_type": "code",
   "execution_count": 129,
   "id": "82d3d3cd",
   "metadata": {},
   "outputs": [
    {
     "name": "stderr",
     "output_type": "stream",
     "text": [
      "C:\\Users\\Abd AL-Rahman\\AppData\\Local\\Temp\\ipykernel_15656\\413147863.py:6: SettingWithCopyWarning: \n",
      "A value is trying to be set on a copy of a slice from a DataFrame\n",
      "\n",
      "See the caveats in the documentation: https://pandas.pydata.org/pandas-docs/stable/user_guide/indexing.html#returning-a-view-versus-a-copy\n",
      "  df['provstate'][i]=dic['state']\n"
     ]
    }
   ],
   "source": [
    "RawsCantProvideProvState=[]\n",
    "for x in Indicies_Of_Null_ProvState:\n",
    "    try:\n",
    "        loc=geo.reverse(str(df['latitude'][i])+','+str(df['longitude'][i]),language='en')\n",
    "        dic=loc.raw['address']\n",
    "        df['provstate'][i]=dic['state']\n",
    "    except:\n",
    "        RawsCantProvideProvState.append(i)"
   ]
  },
  {
   "cell_type": "code",
   "execution_count": 130,
   "id": "49927576",
   "metadata": {},
   "outputs": [
    {
     "data": {
      "text/plain": [
       "0"
      ]
     },
     "execution_count": 130,
     "metadata": {},
     "output_type": "execute_result"
    }
   ],
   "source": [
    "len(RawsCantProvideProvState)"
   ]
  },
  {
   "cell_type": "code",
   "execution_count": 131,
   "id": "60bc126e",
   "metadata": {},
   "outputs": [
    {
     "data": {
      "text/plain": [
       "eventid              0\n",
       "iyear                0\n",
       "imonth               0\n",
       "iday                 0\n",
       "extended             0\n",
       "country              0\n",
       "country_txt          0\n",
       "region               0\n",
       "region_txt           0\n",
       "provstate          421\n",
       "city               378\n",
       "latitude             0\n",
       "longitude            0\n",
       "specificity          6\n",
       "vicinity             0\n",
       "crit1                0\n",
       "crit2                0\n",
       "crit3                0\n",
       "doubtterr            1\n",
       "multiple             1\n",
       "success              0\n",
       "suicide              0\n",
       "attacktype1          0\n",
       "attacktype1_txt      0\n",
       "targtype1            0\n",
       "targtype1_txt        0\n",
       "target1              0\n",
       "natlty1              0\n",
       "natlty1_txt          0\n",
       "gname                0\n",
       "individual           0\n",
       "weaptype1            0\n",
       "weaptype1_txt        0\n",
       "property             0\n",
       "dbsource             0\n",
       "INT_LOG              0\n",
       "INT_IDEO             0\n",
       "INT_MISC             0\n",
       "INT_ANY              0\n",
       "dtype: int64"
      ]
     },
     "execution_count": 131,
     "metadata": {},
     "output_type": "execute_result"
    }
   ],
   "source": [
    "df.isnull().sum()"
   ]
  },
  {
   "cell_type": "code",
   "execution_count": 132,
   "id": "bef10dae",
   "metadata": {},
   "outputs": [
    {
     "data": {
      "text/plain": [
       "True"
      ]
     },
     "execution_count": 132,
     "metadata": {},
     "output_type": "execute_result"
    }
   ],
   "source": [
    "'Unknown' in df['city'].unique()"
   ]
  },
  {
   "cell_type": "code",
   "execution_count": 133,
   "id": "605871e4",
   "metadata": {},
   "outputs": [
    {
     "data": {
      "text/plain": [
       "True"
      ]
     },
     "execution_count": 133,
     "metadata": {},
     "output_type": "execute_result"
    }
   ],
   "source": [
    "'Unknown' in df['provstate'].unique()"
   ]
  },
  {
   "cell_type": "code",
   "execution_count": 134,
   "id": "96fb881e",
   "metadata": {},
   "outputs": [],
   "source": [
    "df[['provstate','city']]=df[['provstate','city']].fillna('Unknown')"
   ]
  },
  {
   "cell_type": "code",
   "execution_count": 135,
   "id": "00a27c1a",
   "metadata": {},
   "outputs": [
    {
     "data": {
      "text/plain": [
       "eventid            0\n",
       "iyear              0\n",
       "imonth             0\n",
       "iday               0\n",
       "extended           0\n",
       "country            0\n",
       "country_txt        0\n",
       "region             0\n",
       "region_txt         0\n",
       "provstate          0\n",
       "city               0\n",
       "latitude           0\n",
       "longitude          0\n",
       "specificity        6\n",
       "vicinity           0\n",
       "crit1              0\n",
       "crit2              0\n",
       "crit3              0\n",
       "doubtterr          1\n",
       "multiple           1\n",
       "success            0\n",
       "suicide            0\n",
       "attacktype1        0\n",
       "attacktype1_txt    0\n",
       "targtype1          0\n",
       "targtype1_txt      0\n",
       "target1            0\n",
       "natlty1            0\n",
       "natlty1_txt        0\n",
       "gname              0\n",
       "individual         0\n",
       "weaptype1          0\n",
       "weaptype1_txt      0\n",
       "property           0\n",
       "dbsource           0\n",
       "INT_LOG            0\n",
       "INT_IDEO           0\n",
       "INT_MISC           0\n",
       "INT_ANY            0\n",
       "dtype: int64"
      ]
     },
     "execution_count": 135,
     "metadata": {},
     "output_type": "execute_result"
    }
   ],
   "source": [
    "df.isnull().sum()"
   ]
  },
  {
   "cell_type": "code",
   "execution_count": 137,
   "id": "1cba6066",
   "metadata": {},
   "outputs": [],
   "source": [
    "df.to_csv('terrorism_data.csv', index=False)"
   ]
  }
 ],
 "metadata": {
  "kernelspec": {
   "display_name": "Python 3 (ipykernel)",
   "language": "python",
   "name": "python3"
  },
  "language_info": {
   "codemirror_mode": {
    "name": "ipython",
    "version": 3
   },
   "file_extension": ".py",
   "mimetype": "text/x-python",
   "name": "python",
   "nbconvert_exporter": "python",
   "pygments_lexer": "ipython3",
   "version": "3.9.12"
  }
 },
 "nbformat": 4,
 "nbformat_minor": 5
}
